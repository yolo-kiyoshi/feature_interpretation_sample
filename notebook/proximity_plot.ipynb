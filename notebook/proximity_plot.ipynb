{
 "cells": [
  {
   "cell_type": "markdown",
   "metadata": {},
   "source": [
    "参考:\n",
    "https://stackoverflow.com/questions/18703136/proximity-matrix-in-sklearn-ensemble-randomforestclassifier"
   ]
  },
  {
   "cell_type": "code",
   "execution_count": 1,
   "metadata": {},
   "outputs": [],
   "source": [
    "from sklearn.datasets import load_iris\n",
    "from sklearn.ensemble import RandomForestClassifier\n",
    "from sklearn.manifold import MDS\n",
    "\n",
    "from matplotlib import pyplot as plt\n",
    "\n",
    "import numpy as np\n",
    "\n",
    "import pandas as pd\n",
    "\n",
    "import seaborn as sns\n",
    "sns.set()"
   ]
  },
  {
   "cell_type": "code",
   "execution_count": 2,
   "metadata": {},
   "outputs": [
    {
     "data": {
      "text/plain": [
       "RandomForestClassifier(bootstrap=True, ccp_alpha=0.0, class_weight=None,\n",
       "                       criterion='gini', max_depth=None, max_features='auto',\n",
       "                       max_leaf_nodes=None, max_samples=None,\n",
       "                       min_impurity_decrease=0.0, min_impurity_split=None,\n",
       "                       min_samples_leaf=1, min_samples_split=2,\n",
       "                       min_weight_fraction_leaf=0.0, n_estimators=100,\n",
       "                       n_jobs=None, oob_score=False, random_state=None,\n",
       "                       verbose=0, warm_start=False)"
      ]
     },
     "execution_count": 2,
     "metadata": {},
     "output_type": "execute_result"
    }
   ],
   "source": [
    "# irisデータセットをロード\n",
    "data = load_iris()\n",
    "\n",
    "train_X = data['data']\n",
    "train_y = data['target']\n",
    "features = data['feature_names']\n",
    "target_names = data['target_names']\n",
    "\n",
    "rfc = RandomForestClassifier()\n",
    "rfc.fit(train_X, train_y)"
   ]
  },
  {
   "cell_type": "code",
   "execution_count": 3,
   "metadata": {},
   "outputs": [],
   "source": [
    "def proximityMatrix(model, X, normalize=True):\n",
    "    \"\"\"\n",
    "    近接行列を算出する\n",
    "    \n",
    "    Notes:\n",
    "        https://stackoverflow.com/questions/18703136/proximity-matrix-in-sklearn-ensemble-randomforestclassifier\n",
    "    \"\"\"\n",
    "\n",
    "    terminals = model.apply(X)\n",
    "    data_size, nTrees = terminals.shape\n",
    "\n",
    "    proxMat = np.zeros([data_size, data_size])\n",
    "\n",
    "    for i in range(nTrees):\n",
    "        belong_node = terminals[:, i]\n",
    "        proxMat += 1*np.equal.outer(belong_node, belong_node)\n",
    "\n",
    "    if normalize:\n",
    "        proxMat = proxMat / nTrees\n",
    "\n",
    "    return proxMat   "
   ]
  },
  {
   "cell_type": "code",
   "execution_count": 4,
   "metadata": {},
   "outputs": [
    {
     "name": "stdout",
     "output_type": "stream",
     "text": [
      "proximity_matrix.shape: (150, 150)\n"
     ]
    }
   ],
   "source": [
    "proximity_matrix = proximityMatrix(rfc, train_X, normalize=True)\n",
    "print(f'proximity_matrix.shape: {proximity_matrix.shape}')"
   ]
  },
  {
   "cell_type": "code",
   "execution_count": 5,
   "metadata": {},
   "outputs": [
    {
     "name": "stdout",
     "output_type": "stream",
     "text": [
      "proximity_matrix_mds.shape: (150, 2)\n"
     ]
    },
    {
     "name": "stderr",
     "output_type": "stream",
     "text": [
      "/usr/local/lib/python3.7/site-packages/sklearn/manifold/_mds.py:419: UserWarning: The MDS API has changed. ``fit`` now constructs an dissimilarity matrix from data. To use a custom dissimilarity matrix, set ``dissimilarity='precomputed'``.\n",
      "  warnings.warn(\"The MDS API has changed. ``fit`` now constructs an\"\n"
     ]
    }
   ],
   "source": [
    "# https://qiita.com/roki18d/items/5927ce2d80006a9e35d5\n",
    "mds = MDS(n_components=2, random_state=0)\n",
    "proximity_matrix_mds = mds.fit_transform(proximity_matrix)\n",
    "print(f'proximity_matrix_mds.shape: {proximity_matrix_mds.shape}')"
   ]
  },
  {
   "cell_type": "code",
   "execution_count": 6,
   "metadata": {},
   "outputs": [],
   "source": [
    "# ラベルを追加\n",
    "tmp = np.concatenate([proximity_matrix_mds, train_y[:, np.newaxis]], axis=1)\n",
    "# DataFrame化\n",
    "df_for_plot = pd.DataFrame(tmp, columns=['x1', 'x2', 'label'])\n",
    "# ラベルを名称に変換\n",
    "df_for_plot['label'] = df_for_plot['label'].map(lambda x: target_names[int(x)])"
   ]
  },
  {
   "cell_type": "code",
   "execution_count": 7,
   "metadata": {},
   "outputs": [
    {
     "data": {
      "text/plain": [
       "Text(0.5, 1.0, 'proximity plot')"
      ]
     },
     "execution_count": 7,
     "metadata": {},
     "output_type": "execute_result"
    },
    {
     "data": {
      "image/png": "[encoded data removed]",
      "text/plain": [
       "<Figure size 432x288 with 1 Axes>"
      ]
     },
     "metadata": {},
     "output_type": "display_data"
    }
   ],
   "source": [
    "# 近接グラフの可視化\n",
    "sns.scatterplot(x='x1', y='x2', data=df_for_plot, hue='label')\n",
    "plt.title('proximity plot')"
   ]
  }
 ],
 "metadata": {
  "kernelspec": {
   "display_name": "Python 3",
   "language": "python",
   "name": "python3"
  },
  "language_info": {
   "codemirror_mode": {
    "name": "ipython",
    "version": 3
   },
   "file_extension": ".py",
   "mimetype": "text/x-python",
   "name": "python",
   "nbconvert_exporter": "python",
   "pygments_lexer": "ipython3",
   "version": "3.7.9"
  }
 },
 "nbformat": 4,
 "nbformat_minor": 4
}
